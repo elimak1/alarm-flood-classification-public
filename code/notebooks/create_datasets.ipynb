{
 "cells": [
  {
   "cell_type": "code",
   "execution_count": null,
   "metadata": {},
   "outputs": [],
   "source": [
    "# Create nested cv datasets with stratification\n",
    "# Creates online alarm flood datasets from test data"
   ]
  },
  {
   "cell_type": "code",
   "execution_count": null,
   "metadata": {},
   "outputs": [],
   "source": [
    "import pandas as pd\n",
    "import numpy as np"
   ]
  },
  {
   "cell_type": "code",
   "execution_count": null,
   "metadata": {},
   "outputs": [],
   "source": [
    "alarm_floods = pd.read_csv('../../data/preprocessed/Crane_alarm_floods.csv')"
   ]
  },
  {
   "cell_type": "code",
   "execution_count": null,
   "metadata": {},
   "outputs": [],
   "source": [
    "labels = pd.read_csv('../../data/classification/final_classes_v2.csv')"
   ]
  },
  {
   "cell_type": "code",
   "execution_count": null,
   "metadata": {},
   "outputs": [],
   "source": [
    "labels = labels[\"class\"]"
   ]
  },
  {
   "cell_type": "code",
   "execution_count": null,
   "metadata": {},
   "outputs": [],
   "source": [
    "outer_folds = 5\n",
    "inner_folds = 2"
   ]
  },
  {
   "cell_type": "code",
   "execution_count": null,
   "metadata": {},
   "outputs": [],
   "source": [
    "# Set labels 18 and 19 to -1\n",
    "labels[labels == 18] = -1\n",
    "labels[labels == 19] = -1"
   ]
  },
  {
   "cell_type": "code",
   "execution_count": null,
   "metadata": {},
   "outputs": [],
   "source": [
    "X_train = []\n",
    "X_validation= []\n",
    "X_test = []\n",
    "Y_train = []\n",
    "Y_validation= []\n",
    "Y_test = []\n"
   ]
  },
  {
   "cell_type": "code",
   "execution_count": null,
   "metadata": {},
   "outputs": [],
   "source": [
    "for i in range(outer_folds):\n",
    "    X_test.append(pd.DataFrame(columns=alarm_floods.columns))\n",
    "    Y_test.append(pd.Series(dtype='int64'))\n",
    "    for j in range(inner_folds):\n",
    "        X_train.append(pd.DataFrame(columns=alarm_floods.columns))\n",
    "        Y_train.append(pd.Series(dtype='int64'))\n",
    "        X_validation.append(pd.DataFrame(columns=alarm_floods.columns))\n",
    "        \n",
    "        Y_validation.append(pd.Series(dtype='int64'))\n",
    "        "
   ]
  },
  {
   "cell_type": "code",
   "execution_count": null,
   "metadata": {},
   "outputs": [],
   "source": [
    "labels.unique()"
   ]
  },
  {
   "cell_type": "code",
   "execution_count": null,
   "metadata": {},
   "outputs": [],
   "source": [
    "# Create folds\n",
    "remaining_sample_indices = []\n",
    "for label in labels.unique():\n",
    "    label_indices = labels[labels == label].index.values\n",
    "    np.random.shuffle(label_indices)\n",
    "    # Take only first 35 samples\n",
    "    label_indices = label_indices[:35]\n",
    "    outer_fold_size = int(len(label_indices) / outer_folds)\n",
    "    for i in range(outer_folds):\n",
    "        outer_fold_indices = label_indices[i * outer_fold_size: (i + 1) * outer_fold_size]\n",
    "        X_test[i] = X_test[i].append(alarm_floods[alarm_floods[\"flood_id\"].isin(outer_fold_indices)])\n",
    "        Y_test[i] = Y_test[i].append(labels.iloc[outer_fold_indices])\n",
    "    remaining_indices = label_indices[(i+1)* outer_fold_size:]\n",
    "    remaining_sample_indices.append(remaining_indices)\n",
    "        "
   ]
  },
  {
   "cell_type": "code",
   "execution_count": null,
   "metadata": {},
   "outputs": [],
   "source": [
    "# Add remaining samples to outer folds evenly\n",
    "remaining_sample_indices = np.concatenate(remaining_sample_indices)"
   ]
  },
  {
   "cell_type": "code",
   "execution_count": null,
   "metadata": {},
   "outputs": [],
   "source": [
    "fold_idx = 0\n",
    "for i in range(len(remaining_sample_indices)):\n",
    "    X_test[fold_idx] = X_test[fold_idx].append(alarm_floods[alarm_floods[\"flood_id\"] == remaining_sample_indices[i]])\n",
    "    Y_test[fold_idx] = Y_test[fold_idx].append(labels.iloc[[remaining_sample_indices[i]]])\n",
    "    fold_idx += 1\n",
    "    if fold_idx >= outer_folds:\n",
    "        fold_idx = 0\n"
   ]
  },
  {
   "cell_type": "code",
   "execution_count": null,
   "metadata": {},
   "outputs": [],
   "source": [
    "# Create inner folds\n",
    "folds = list(range(outer_folds))\n",
    "\n",
    "\n",
    "set_idx = 0\n",
    "for i in folds:\n",
    "    inner_indices = [x for x in folds if x != i]\n",
    "    inner_folds_indices = []\n",
    "    inner_folds_size = len(inner_indices)\n",
    "    for j in range(inner_folds):\n",
    "        train_indices = inner_indices[j*(inner_folds_size//inner_folds):(j+1)*(inner_folds_size//inner_folds)]\n",
    "        valid_indices = [x for x in inner_indices if x not in train_indices]\n",
    "        for t in train_indices:\n",
    "            X_train[set_idx] = X_train[set_idx].append(X_test[t])\n",
    "            Y_train[set_idx] = Y_train[set_idx].append(Y_test[t])\n",
    "        for v in valid_indices:\n",
    "            X_validation[set_idx] = X_validation[set_idx].append(X_test[v])\n",
    "            Y_validation[set_idx] = Y_validation[set_idx].append(Y_test[v])\n",
    "        set_idx += 1\n",
    "\n"
   ]
  },
  {
   "cell_type": "code",
   "execution_count": null,
   "metadata": {},
   "outputs": [],
   "source": [
    "Y_test[0].sort_index()"
   ]
  },
  {
   "cell_type": "code",
   "execution_count": null,
   "metadata": {},
   "outputs": [],
   "source": [
    "Y_train[0].sort_index()\n"
   ]
  },
  {
   "cell_type": "code",
   "execution_count": null,
   "metadata": {},
   "outputs": [],
   "source": [
    "# Save the folds\n",
    "set_idx = 0\n",
    "for i in range(outer_folds):\n",
    "    X_test[i].sort_index(inplace=True)\n",
    "    Y_test[i].sort_index(inplace=True)\n",
    "    X_test[i].to_csv('../../data/classification/folds/outer_fold_' + str(i) + '_test.csv')\n",
    "    Y_test[i].to_csv('../../data/classification/folds/outer_fold_' + str(i) + '_test_labels.csv')\n",
    "    for j in range(inner_folds):\n",
    "            X_train[set_idx].sort_index(inplace=True)\n",
    "            Y_train[set_idx].sort_index(inplace=True)\n",
    "            X_validation[set_idx].sort_index(inplace=True)\n",
    "            Y_validation[set_idx].sort_index(inplace=True)\n",
    "            X_train[set_idx].to_csv('../../data/classification/folds/outer_fold_' + str(i) + '_inner_fold_' + str(j) + '_train.csv')\n",
    "            Y_train[set_idx].to_csv('../../data/classification/folds/outer_fold_' + str(i) + '_inner_fold_' + str(j) + '_train_labels.csv')\n",
    "            X_validation[set_idx].to_csv('../../data/classification/folds/outer_fold_' + str(i) + '_inner_fold_' + str(j) + '_validation.csv')\n",
    "            Y_validation[set_idx].to_csv('../../data/classification/folds/outer_fold_' + str(i) + '_inner_fold_' + str(j) + '_validation_labels.csv')"
   ]
  },
  {
   "cell_type": "code",
   "execution_count": null,
   "metadata": {},
   "outputs": [],
   "source": [
    "# Create online alarm flood datasets\n",
    "# Get alarms which occurred before each minute between start which is before minute 11 and until minute 20\n",
    "\n",
    "for f in range(outer_folds):\n",
    "\n",
    "    for i in range(11, 21):\n",
    "        data = X_test[f].copy()\n",
    "        online_flood = data[data[\"startTimestamp\"] < i * 1000*60].copy()\n",
    "        online_flood[\"endTimestamp\"] = online_flood[\"endTimestamp\"].apply(lambda x: min(x, i * 1000*60))\n",
    "        online_flood.to_csv('../../data/classification/online_floods/online_flood_inner_fold_' + str(f) + 'min_' + str(i) +'.csv')"
   ]
  }
 ],
 "metadata": {
  "language_info": {
   "name": "python"
  }
 },
 "nbformat": 4,
 "nbformat_minor": 2
}
