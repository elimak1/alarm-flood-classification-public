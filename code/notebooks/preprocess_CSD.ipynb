{
 "cells": [
  {
   "cell_type": "code",
   "execution_count": null,
   "metadata": {},
   "outputs": [],
   "source": [
    "# Reads file of alarms and file which contains start and end times of alarm floods\n",
    "# 1. Create new alarm ids using alarm number and device id\n",
    "# 3. removes chattering alarms\n",
    "# 2. Remove fields not used by algorithms\n",
    "# 4. Normalizes timestamps so that each floods starts at time 0, difference in milliseconds\n",
    "# 5. Writes preprocessed file as csv"
   ]
  },
  {
   "cell_type": "code",
   "execution_count": null,
   "metadata": {},
   "outputs": [],
   "source": [
    "import pandas as pd\n",
    "from remove_chattering import remove_nuisance_alarms "
   ]
  },
  {
   "cell_type": "code",
   "execution_count": null,
   "metadata": {},
   "outputs": [],
   "source": [
    "alarms = pd.read_csv(f'../../data/CSD_alarms.csv')"
   ]
  },
  {
   "cell_type": "code",
   "execution_count": null,
   "metadata": {},
   "outputs": [],
   "source": [
    "device_floods = pd.read_csv(f'../../data/CSD_alarm_floods.csv')"
   ]
  },
  {
   "cell_type": "code",
   "execution_count": null,
   "metadata": {},
   "outputs": [],
   "source": [
    "columnsToKeep = [\"systemId\", \"deviceId\", \"alarmNumber\", \"level\",\"description\",\"startTimestamp\", \"endTimestamp\"]\n",
    "alarms = alarms[columnsToKeep]\n",
    "alarms[\"startTimestamp\"] = pd.to_datetime(alarms[\"startTimestamp\"], errors='coerce')\n",
    "alarms[\"endTimestamp\"] = pd.to_datetime(alarms[\"endTimestamp\"], errors='coerce')\n",
    "alarms = alarms.dropna(subset=[\"startTimestamp\", \"endTimestamp\"])\n",
    "alarms = alarms.sort_values(by=\"startTimestamp\")\n",
    "    \n",
    "device_floods[\"startTimestamp\"] = pd.to_datetime(device_floods[\"startTimestamp\"], errors='coerce')\n",
    "device_floods[\"endTimestamp\"] = pd.to_datetime(device_floods[\"endTimestamp\"], errors='coerce')"
   ]
  },
  {
   "cell_type": "code",
   "execution_count": null,
   "metadata": {},
   "outputs": [],
   "source": [
    "def calculate_time_difference(group, start_time):\n",
    "    group['startTimestamp'] = pd.to_datetime(group['startTimestamp'])\n",
    "    group['endTimestamp'] = pd.to_datetime(group['endTimestamp'])\n",
    "\n",
    "    group['startTimestamp'] = ((group['startTimestamp'] - start_time).dt.total_seconds() * 1000).astype(int)\n",
    "    group['endTimestamp'] = ((group['endTimestamp'] - start_time).dt.total_seconds() * 1000).astype(int)\n",
    "    group.loc[group['endTimestamp'] < 0, 'endTimestamp'] = int(1e8)\n",
    "    \n",
    "    return group"
   ]
  },
  {
   "cell_type": "code",
   "execution_count": null,
   "metadata": {},
   "outputs": [],
   "source": [
    "# For now check only crane floods\n",
    "\n",
    "crane_floods = device_floods[device_floods[\"deviceId\"].str.contains(\"Crane\")].reset_index()\n",
    "system_groupd = alarms.groupby(\"systemId\")\n",
    "\n",
    "useless_alarms = []\n",
    "messages = []\n",
    "\n",
    "floods_to_label_df = pd.DataFrame()\n",
    "for i, row in crane_floods.iterrows():\n",
    "    systemId = row[\"deviceId\"].split(\"_\")[0]\n",
    "    system_alarms = system_groupd.get_group(systemId)\n",
    "\n",
    "    alarm_flood_alarms = system_alarms[(system_alarms[\"startTimestamp\"] >= row[\"startTimestamp\"]) & (system_alarms[\"startTimestamp\"] <= row[\"endTimestamp\"])]\n",
    "    alarm_flood_alarms[\"flood_id\"] = i\n",
    "    floods_to_label_df = pd.concat((floods_to_label_df, alarm_flood_alarms))\n",
    "\n",
    "floods_to_label_df[\"deviceId\"] = floods_to_label_df[\"deviceId\"] + \"_\" + floods_to_label_df[\"flood_id\"].map(str)\n",
    "df =  remove_nuisance_alarms(floods_to_label_df, 10, messages, useless_alarms)\n",
    "df = df.sort_values(by=[\"flood_id\", \"startTimestamp\"]).reset_index(drop=True)\n",
    "df[\"alarmNumber\"] = df[\"deviceId\"].str.split(\"_\").str[1] + \"_\" + df[\"alarmNumber\"]\n",
    "df = df[[\"flood_id\", \"alarmNumber\", \"startTimestamp\", \"endTimestamp\"]]\n",
    "normalized_floods_df = df.groupby('flood_id').apply(lambda group: calculate_time_difference(group, crane_floods.loc[group[\"flood_id\"].iloc[0]][\"startTimestamp\"]))\n"
   ]
  },
  {
   "cell_type": "code",
   "execution_count": null,
   "metadata": {},
   "outputs": [],
   "source": [
    "normalized_floods_df.to_csv(f\"../../data/preprocessed/Crane_alarm_floods.csv\", index=False)"
   ]
  }
 ],
 "metadata": {
  "language_info": {
   "name": "python"
  }
 },
 "nbformat": 4,
 "nbformat_minor": 2
}
