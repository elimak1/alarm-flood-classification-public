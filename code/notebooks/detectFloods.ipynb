{
 "cells": [
  {
   "cell_type": "code",
   "execution_count": null,
   "metadata": {},
   "outputs": [],
   "source": [
    "import pandas as pd\n",
    "import numpy as np\n",
    "from datetime import timedelta\n",
    "import csv\n",
    "from remove_chattering import remove_nuisance_alarms "
   ]
  },
  {
   "cell_type": "code",
   "execution_count": null,
   "metadata": {},
   "outputs": [],
   "source": [
    "system = \" \""
   ]
  },
  {
   "cell_type": "code",
   "execution_count": null,
   "metadata": {},
   "outputs": [],
   "source": [
    "alarmSeries = pd.read_csv(f'../../data/{system}_alarms.csv')"
   ]
  },
  {
   "cell_type": "code",
   "execution_count": null,
   "metadata": {},
   "outputs": [],
   "source": [
    "columnsToKeep = [\"systemId\", \"deviceId\", \"alarmNumber\", \"level\",\"description\",\"startTimestamp\", \"endTimestamp\"]\n",
    "alarmSeries = alarmSeries[columnsToKeep]\n",
    "alarmSeries[\"startTimestamp\"] = pd.to_datetime(alarmSeries[\"startTimestamp\"], errors='coerce')\n",
    "alarmSeries[\"endTimestamp\"] = pd.to_datetime(alarmSeries[\"endTimestamp\"], errors='coerce')\n",
    "alarmSeries = alarmSeries.dropna(subset=[\"startTimestamp\", \"endTimestamp\"])\n",
    "alarmSeries = alarmSeries.sort_values(by=[\"startTimestamp\", \"alarmNumber\"])"
   ]
  },
  {
   "cell_type": "code",
   "execution_count": null,
   "metadata": {},
   "outputs": [],
   "source": [
    "\n",
    "useless_alarms = [\"\"]\n",
    "messages = [\"Message\"]\n",
    "\n",
    "no_chattering_alarms = remove_nuisance_alarms(alarmSeries, 10, messages, useless_alarms)\n",
    "no_chattering_alarms.reset_index(drop=True, inplace=True)\n",
    "no_chattering_alarms = no_chattering_alarms.sort_values(by=[\"deviceId\", \"startTimestamp\", \"alarmNumber\"])\n"
   ]
  },
  {
   "cell_type": "code",
   "execution_count": null,
   "metadata": {},
   "outputs": [],
   "source": [
    "def calculate_alarm_rate(df, time_column, window_size_minutes=10):\n",
    "    \"\"\"\n",
    "    Calculates the rate of alarm per window_size_minutes for every minute in the DataFrame.\n",
    "    \n",
    "    :param df: A pandas DataFrame.\n",
    "    :param time_column: The name of the column in df which contains the datetime values.\n",
    "    :param window_size_minutes: The size of the rolling window in minutes.\n",
    "    :return: A DataFrame with an additional column 'alarm_rate' representing the rate of events per window.\n",
    "    \"\"\"    \n",
    "    # Setting the time column as the index\n",
    "    df.set_index(time_column, inplace=True)\n",
    "\n",
    "    # Resample the data to 1-minute intervals, counting the number of events in each interval\n",
    "    df_resampled = df.resample('1T').count()\n",
    "\n",
    "    # Calculate rolling sum over the specified window size\n",
    "    rolling_counts = df_resampled.rolling(window=f'{window_size_minutes}T').sum()\n",
    "\n",
    "    # Renaming the column to 'alarm_rate'\n",
    "    rolling_counts.rename(columns={df_resampled.columns[0]: 'alarm_rate'}, inplace=True)\n",
    "\n",
    "    return rolling_counts"
   ]
  },
  {
   "cell_type": "code",
   "execution_count": null,
   "metadata": {},
   "outputs": [],
   "source": [
    "alarm_rate_by_device = no_chattering_alarms.groupby(\"deviceId\").apply(calculate_alarm_rate, \"startTimestamp\", 10)"
   ]
  },
  {
   "cell_type": "code",
   "execution_count": null,
   "metadata": {},
   "outputs": [],
   "source": [
    "# Detect alarm floods\n",
    "# Alarm flood starts when alarm flood starts to increase and reaches set rate of alarms\n",
    "# Ends when alarm rate reaches half of the start rate\n",
    "# 10 alarms /10 minutes - from ANS-ISA-18.2\n",
    "def find_event_sequences(series, T = 10, flood_threshold = 10, gamma = 0.5):\n",
    "    \"\"\"\n",
    "    Detect alarm floods\n",
    "    Alarm flood start: when alarm rate reaches threshold - T\n",
    "    Alarm flood end: when alarm rate goes lower than threshold*gamma\n",
    "    \n",
    "    :param df: A pandas DataFrame.\n",
    "    :param time_column: The name of the column in df which contains the datetime values.\n",
    "    :param T: Size of time window in minutes\n",
    "    :param flood_threshold: rate of alarms needed to start alarm flood\n",
    "    :param gamma: multiplier to the threshold to detect end of alarm flood\n",
    "    :return: list of tuples which contain start and endtimestamp of alarm flood as pd timestamp\n",
    "    \"\"\"    \n",
    "    sequences = []\n",
    "    sequence_start = None\n",
    "    \n",
    "    for idx, row in series.iteritems():\n",
    "        if sequence_start is None and row >= flood_threshold:\n",
    "            sequence_start = idx[1]\n",
    "        elif sequence_start is not None and row < flood_threshold*gamma:\n",
    "            sequences.append((sequence_start - pd.Timedelta(T, \"minute\"), idx[1]))\n",
    "            sequence_start = None\n",
    "    return sequences"
   ]
  },
  {
   "cell_type": "code",
   "execution_count": null,
   "metadata": {},
   "outputs": [],
   "source": [
    "alarm_rate_by_device = alarm_rate_by_device[\"alarm_rate\"]"
   ]
  },
  {
   "cell_type": "code",
   "execution_count": null,
   "metadata": {},
   "outputs": [],
   "source": [
    "\n",
    "device_alarm_floods = alarm_rate_by_device.groupby(\"deviceId\").apply(find_event_sequences, 10, 3)"
   ]
  },
  {
   "cell_type": "code",
   "execution_count": null,
   "metadata": {},
   "outputs": [],
   "source": [
    "df = pd.DataFrame([(index, *tup) for index, lst in device_alarm_floods.items() for tup in lst], columns=['deviceId', 'startTimestamp', 'endTimestamp'])"
   ]
  },
  {
   "cell_type": "code",
   "execution_count": null,
   "metadata": {},
   "outputs": [],
   "source": [
    "df.to_csv(f'../../data/{system}_alarm_floods.csv', index=False)"
   ]
  },
  {
   "cell_type": "code",
   "execution_count": null,
   "metadata": {},
   "outputs": [],
   "source": [
    "for device, flood in device_alarm_floods.iteritems():\n",
    "    with open(f\"../../data/detected_floods/{device}_verylow_T_alarm_floods.csv\", 'w', newline='') as file:\n",
    "        writer = csv.writer(file)\n",
    "        writer.writerow([\"startTimestamp\", \"endTimestamp\"])\n",
    "        for s, e in flood:\n",
    "            writer.writerow([s.strftime(\"%Y-%m-%d %H:%M:%S.%f%z\"),e.strftime(\"%Y-%m-%d %H:%M:%S.%f%z\")])"
   ]
  }
 ],
 "metadata": {
  "language_info": {
   "name": "python"
  }
 },
 "nbformat": 4,
 "nbformat_minor": 2
}
