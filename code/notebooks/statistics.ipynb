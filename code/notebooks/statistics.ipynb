{
 "cells": [
  {
   "cell_type": "code",
   "execution_count": null,
   "metadata": {},
   "outputs": [],
   "source": [
    "import pandas as pd\n",
    "import matplotlib.pyplot as plt\n",
    "import matplotlib.patches as patches\n",
    "import numpy as np\n",
    "import seaborn as sns\n",
    "from collections import Counter\n"
   ]
  },
  {
   "cell_type": "code",
   "execution_count": null,
   "metadata": {},
   "outputs": [],
   "source": [
    "# Create a timeline plot for alarm flood\n",
    "# Include chattering alarms\n",
    "\n",
    "system = \"CSD\"\n",
    "alarms = pd.read_csv(f'../../data/{system}_similar_alarms.csv')\n",
    "alarm_floods = pd.read_csv(f'../../data/{system}_alarm_floods.csv')\n",
    "columnsToKeep = [\"deviceId\", \"alarmNumber\", \"level\",\"description\",\"startTimestamp\", \"endTimestamp\"]\n",
    "alarms = alarms[columnsToKeep]\n",
    "alarms[\"startTimestamp\"] = pd.to_datetime(alarms[\"startTimestamp\"], errors='coerce')\n",
    "alarms[\"endTimestamp\"] = pd.to_datetime(alarms[\"endTimestamp\"], errors='coerce')\n",
    "alarms = alarms.dropna(subset=[\"startTimestamp\", \"endTimestamp\"])\n",
    "alarms = alarms.sort_values(by=\"startTimestamp\")\n",
    "alarm_floods[\"startTimestamp\"] = pd.to_datetime(alarm_floods[\"startTimestamp\"], errors='coerce')\n",
    "alarm_floods[\"endTimestamp\"] = pd.to_datetime(alarm_floods[\"endTimestamp\"], errors='coerce')"
   ]
  },
  {
   "cell_type": "code",
   "execution_count": null,
   "metadata": {},
   "outputs": [],
   "source": [
    "crane_floods = alarm_floods[alarm_floods[\"deviceId\"].str.contains(\"Crane\")].reset_index()"
   ]
  },
  {
   "cell_type": "code",
   "execution_count": null,
   "metadata": {},
   "outputs": [],
   "source": [
    "results = {}"
   ]
  },
  {
   "cell_type": "code",
   "execution_count": null,
   "metadata": {},
   "outputs": [],
   "source": [
    "alarms[\"systemId\"] = alarms[\"deviceId\"].map(lambda x: x.split(\"_\")[0])\n",
    "results[\"number of systems\"] = alarms[\"systemId\"].nunique()\n",
    "results[\"number of alarm floods\"] = len(crane_floods)\n",
    "results[\"recorded years\"] = alarms.groupby(\"systemId\").apply(lambda x: x[\"endTimestamp\"].max() - x[\"startTimestamp\"].min()).sum() / np.timedelta64(1, 'Y')\n",
    "alarms[\"date\"] = alarms[\"startTimestamp\"].map(lambda x: x.date().strftime(\"%Y-%m-%d\"))\n",
    "results[\"highest daily alarm count\"] = alarms.groupby([\"systemId\", \"date\"]).apply(lambda x: x[\"alarmNumber\"].count()).max()\n",
    "\n",
    "recorded_days = alarms.groupby(\"systemId\").apply(lambda x: x[\"endTimestamp\"].max() - x[\"startTimestamp\"].min()).sum() / np.timedelta64(1, 'D')\n",
    "results[\"mean daily alarm count\"] = alarms.groupby([\"systemId\", \"date\"]).apply(lambda x: x[\"alarmNumber\"].count()).sum() / recorded_days\n",
    "\n",
    "crane_floods[\"date\"] = crane_floods[\"startTimestamp\"].map(lambda x: x.date().strftime(\"%Y-%m-%d\"))\n",
    "results[\"days with alarm flood\"] = crane_floods.groupby([\"deviceId\", \"date\"]).apply(lambda _: 1).sum()\n",
    "\n",
    "crane_floods[\"duration\"] = crane_floods[\"endTimestamp\"] - crane_floods[\"startTimestamp\"]\n",
    "results[\"mean alarm flood duration minutes\"] = crane_floods[\"duration\"].mean() / np.timedelta64(1, 'm')"
   ]
  },
  {
   "cell_type": "code",
   "execution_count": null,
   "metadata": {},
   "outputs": [],
   "source": [
    "system_groupd = alarms.groupby(\"systemId\")\n",
    "floods_to_label_df = pd.DataFrame()\n",
    "for i, row in crane_floods.iterrows():\n",
    "    systemId = row[\"deviceId\"].split(\"_\")[0]\n",
    "    system_alarms = system_groupd.get_group(systemId)\n",
    "\n",
    "    alarm_flood_alarms = system_alarms[(system_alarms[\"startTimestamp\"] >= row[\"startTimestamp\"]) & (system_alarms[\"startTimestamp\"] <= row[\"endTimestamp\"])]\n",
    "    alarm_flood_alarms[\"flood_id\"] = i\n",
    "    floods_to_label_df = pd.concat((floods_to_label_df, alarm_flood_alarms))"
   ]
  },
  {
   "cell_type": "code",
   "execution_count": null,
   "metadata": {},
   "outputs": [],
   "source": [
    "floods_to_label_df[\"deviceId\"] = floods_to_label_df[\"deviceId\"] + \"_\" + floods_to_label_df[\"flood_id\"].map(str)\n",
    "floods_to_label_df[\"alarmNumber\"] = floods_to_label_df[\"deviceId\"].str.split(\"_\").str[1] + \"_\" + floods_to_label_df[\"alarmNumber\"]"
   ]
  },
  {
   "cell_type": "code",
   "execution_count": null,
   "metadata": {},
   "outputs": [],
   "source": [
    "results[\"unique alarm variables\"] =  floods_to_label_df[\"alarmNumber\"].nunique()"
   ]
  },
  {
   "cell_type": "code",
   "execution_count": null,
   "metadata": {},
   "outputs": [],
   "source": [
    "def calculate_alarm_rate(df, time_column, window_size_minutes=10):\n",
    "    \"\"\"\n",
    "    Calculates the rate of alarm per window_size_minutes for every minute in the DataFrame.\n",
    "    \n",
    "    :param df: A pandas DataFrame.\n",
    "    :param time_column: The name of the column in df which contains the datetime values.\n",
    "    :param window_size_minutes: The size of the rolling window in minutes.\n",
    "    :return: A DataFrame with an additional column 'alarm_rate' representing the rate of events per window.\n",
    "    \"\"\"    \n",
    "    # Setting the time column as the index\n",
    "    df.set_index(time_column, inplace=True)\n",
    "\n",
    "    # Resample the data to 1-minute intervals, counting the number of events in each interval\n",
    "    df_resampled = df.resample('1T').count()\n",
    "\n",
    "    # Calculate rolling sum over the specified window size\n",
    "    rolling_counts = df_resampled.rolling(window=f'{window_size_minutes}T').sum()\n",
    "\n",
    "    # Renaming the column to 'alarm_rate'\n",
    "    rolling_counts.rename(columns={df_resampled.columns[0]: 'alarm_rate'}, inplace=True)\n",
    "\n",
    "    return rolling_counts"
   ]
  },
  {
   "cell_type": "code",
   "execution_count": null,
   "metadata": {},
   "outputs": [],
   "source": [
    "alarm_rate_by_system = alarms.groupby(\"deviceId\").apply(calculate_alarm_rate, \"startTimestamp\", 10)"
   ]
  },
  {
   "cell_type": "code",
   "execution_count": null,
   "metadata": {},
   "outputs": [],
   "source": [
    "results[\"peak alarm rate / 10 min\"] = int(alarm_rate_by_system[\"alarm_rate\"].max())"
   ]
  },
  {
   "cell_type": "code",
   "execution_count": null,
   "metadata": {},
   "outputs": [],
   "source": [
    "labels = pd.read_csv(\"../../data/classification/final_classes_v2.csv\")"
   ]
  },
  {
   "cell_type": "code",
   "execution_count": null,
   "metadata": {},
   "outputs": [],
   "source": [
    "results[\"root causes identified\"] = labels[\"class\"].nunique()"
   ]
  },
  {
   "cell_type": "code",
   "execution_count": null,
   "metadata": {},
   "outputs": [],
   "source": [
    "df_results = pd.DataFrame(results.items(), columns=[\"statistic\", \"value\"])\n",
    "df_results.to_csv(\"../../data/stats/general_stats.csv\", index=False, sep=\";\")"
   ]
  },
  {
   "cell_type": "code",
   "execution_count": null,
   "metadata": {},
   "outputs": [],
   "source": [
    "# Visualize number of floods per root cause\n",
    "sns.set_palette(\"deep\")\n",
    "sns.set_style(\"whitegrid\")\n",
    "sns.set_context(\"paper\")\n",
    "\n",
    "\n",
    "label_counts = labels.groupby(\"class\").apply(lambda x: x[\"class\"].count())\n",
    "\n",
    "ax = sns.barplot(x=label_counts.index, y=label_counts.values, edgecolor=\"black\", linewidth=1.5)\n",
    "ax.set_xlabel(\"Root cause\", fontsize=12)\n",
    "ax.set_ylabel(\"Number of floods\", fontsize=12)\n",
    "plt.show()"
   ]
  },
  {
   "cell_type": "code",
   "execution_count": null,
   "metadata": {},
   "outputs": [],
   "source": [
    "# visualize flood durations per root cause"
   ]
  },
  {
   "cell_type": "code",
   "execution_count": null,
   "metadata": {},
   "outputs": [],
   "source": [
    "crane_floods[\"label\"] = labels[\"class\"]\n",
    "crane_floods[\"duration\"] = crane_floods[\"duration\"] / np.timedelta64(1, 'm')"
   ]
  },
  {
   "cell_type": "code",
   "execution_count": null,
   "metadata": {},
   "outputs": [],
   "source": [
    "labels"
   ]
  },
  {
   "cell_type": "code",
   "execution_count": null,
   "metadata": {},
   "outputs": [],
   "source": [
    "labels.loc[0][\"class\"]"
   ]
  },
  {
   "cell_type": "code",
   "execution_count": null,
   "metadata": {},
   "outputs": [],
   "source": [
    "floods_to_label_df[\"label\"] = floods_to_label_df[\"flood_id\"].map(lambda x: labels.loc[x][\"class\"])"
   ]
  },
  {
   "cell_type": "code",
   "execution_count": null,
   "metadata": {},
   "outputs": [],
   "source": [
    "counts_by_flood = floods_to_label_df.groupby(\"label\").apply(lambda x: x.groupby(\"flood_id\").apply(lambda xd: len(xd)))"
   ]
  },
  {
   "cell_type": "code",
   "execution_count": null,
   "metadata": {},
   "outputs": [],
   "source": [
    "counts_by_flood"
   ]
  },
  {
   "cell_type": "code",
   "execution_count": null,
   "metadata": {},
   "outputs": [],
   "source": [
    "ax = sns.boxplot(x=counts_by_flood.index.get_level_values(0), y=counts_by_flood.values)\n",
    "ax.set_xlabel(\"Root cause\", fontsize=12)\n",
    "ax.set_ylabel(\"Alarm instances in flood\", fontsize=12)\n",
    "plt.show()"
   ]
  },
  {
   "cell_type": "code",
   "execution_count": null,
   "metadata": {},
   "outputs": [],
   "source": [
    "labels[labels[\"class\"] == 7].iloc[0][\"class description\"]"
   ]
  },
  {
   "cell_type": "code",
   "execution_count": null,
   "metadata": {},
   "outputs": [],
   "source": [
    "level_counts = alarms[\"level\"].value_counts()"
   ]
  },
  {
   "cell_type": "code",
   "execution_count": null,
   "metadata": {},
   "outputs": [],
   "source": [
    "alarms[\"deviceId\"] = alarms[\"deviceId\"].map(lambda x: x.split(\"_\")[1])"
   ]
  },
  {
   "cell_type": "code",
   "execution_count": null,
   "metadata": {},
   "outputs": [],
   "source": [
    "\n",
    "alarms[\"variable_id\"] = alarms[\"deviceId\"] + \"_\" + alarms[\"alarmNumber\"]"
   ]
  },
  {
   "cell_type": "code",
   "execution_count": null,
   "metadata": {},
   "outputs": [],
   "source": [
    "level_counts = alarms.groupby(\"variable_id\").apply(lambda x: x[\"level\"].iloc[0]).value_counts()"
   ]
  },
  {
   "cell_type": "code",
   "execution_count": null,
   "metadata": {},
   "outputs": [],
   "source": [
    "alarms[\"variable_id\"].nunique()"
   ]
  },
  {
   "cell_type": "code",
   "execution_count": null,
   "metadata": {},
   "outputs": [],
   "source": [
    "level_counts"
   ]
  },
  {
   "cell_type": "code",
   "execution_count": null,
   "metadata": {},
   "outputs": [],
   "source": [
    "plt.figure(figsize=(8, 8))\n",
    "plt.pie(level_counts, labels=level_counts.index,colors=['#FF5F5A','#FFDF5A','#5ABEFF','#FFBE5A'], autopct='%1.1f%%', startangle=140)\n",
    "plt.show()"
   ]
  },
  {
   "cell_type": "code",
   "execution_count": null,
   "metadata": {},
   "outputs": [],
   "source": [
    "labels[[\"class\", \"class description\"]].sort_values(by=\"class\").groupby(\"class\").first().to_csv(\"../../data/stats/root_cause_descriptions.csv\", sep=\";\")"
   ]
  }
 ],
 "metadata": {
  "language_info": {
   "name": "python"
  }
 },
 "nbformat": 4,
 "nbformat_minor": 2
}
